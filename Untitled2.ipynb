{
  "nbformat": 4,
  "nbformat_minor": 0,
  "metadata": {
    "colab": {
      "provenance": []
    },
    "kernelspec": {
      "name": "python3",
      "display_name": "Python 3"
    },
    "language_info": {
      "name": "python"
    }
  },
  "cells": [
    {
      "cell_type": "code",
      "execution_count": 1,
      "metadata": {
        "id": "6zaJE846Ddio",
        "colab": {
          "base_uri": "https://localhost:8080/"
        },
        "outputId": "b91a7e79-982c-42dc-fa9e-16cd6005513c"
      },
      "outputs": [
        {
          "output_type": "stream",
          "name": "stdout",
          "text": [
            "Name: Abdulla Ibrahim, Date of Birth: 2003-02-07, Gender: Male, Emirates ID: 784-2003-789\n"
          ]
        }
      ],
      "source": [
        "from datetime import date\n",
        "\n",
        "class Person:\n",
        "    def __init__(self, firstName, lastName, dateOfBirth, gender, emiratesID):\n",
        "        self.firstName = firstName\n",
        "        self.lastName = lastName\n",
        "        self.dateOfBirth = dateOfBirth\n",
        "        self.gender = gender\n",
        "        self.emiratesID = emiratesID\n",
        "\n",
        "    def __str__(self):\n",
        "\n",
        "        dob_str = self.dateOfBirth.strftime(\"%Y-%m-%d\")\n",
        "        return f\"Name: {self.firstName} {self.lastName}, Date of Birth: {dob_str}, Gender: {self.gender}, Emirates ID: {self.emiratesID}\"\n",
        "\n",
        "\n",
        "person = Person(\"Abdulla\", \"Ibrahim\", date(2003, 2, 7), \"Male\", \"784-2003-789\")\n",
        "print(person)"
      ]
    }
  ]
}